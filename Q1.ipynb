{
  "nbformat": 4,
  "nbformat_minor": 0,
  "metadata": {
    "colab": {
      "name": "Q1.ipynb",
      "provenance": [],
      "collapsed_sections": [],
      "authorship_tag": "ABX9TyP7U3BjM/2aXGdxdgqZkqiY",
      "include_colab_link": true
    },
    "kernelspec": {
      "name": "python3",
      "display_name": "Python 3"
    },
    "language_info": {
      "name": "python"
    }
  },
  "cells": [
    {
      "cell_type": "markdown",
      "metadata": {
        "id": "view-in-github",
        "colab_type": "text"
      },
      "source": [
        "<a href=\"https://colab.research.google.com/github/Erica97/Winter-2022-Data-Science-Intern-Challenge/blob/main/Q1.ipynb\" target=\"_parent\"><img src=\"https://colab.research.google.com/assets/colab-badge.svg\" alt=\"Open In Colab\"/></a>"
      ]
    },
    {
      "cell_type": "markdown",
      "metadata": {
        "id": "Ld8oGhzLXjyd"
      },
      "source": [
        "###Question 1: Given some sample data, write a program to answer the following:"
      ]
    },
    {
      "cell_type": "markdown",
      "metadata": {
        "id": "aP0Lb3DPZlG-"
      },
      "source": [
        "On Shopify, we have exactly 100 sneaker shops, and each of these shops sells only one model of shoe. We want to do some analysis of the average order value (AOV). When we look at orders data over a 30 day window, we naively calculate an AOV of $3145.13. Given that we know these shops are selling sneakers, a relatively affordable item, something seems wrong with our analysis. "
      ]
    },
    {
      "cell_type": "markdown",
      "metadata": {
        "id": "UBjeHzHzZo6R"
      },
      "source": [
        "####a) Think about what could be going wrong with our calculation. Think about a better way to evaluate this data. "
      ]
    },
    {
      "cell_type": "code",
      "metadata": {
        "colab": {
          "base_uri": "https://localhost:8080/",
          "height": 221
        },
        "id": "e2bj0nfggL7V",
        "outputId": "d0958c69-9884-4a15-8042-5daf542d8fa6"
      },
      "source": [
        "from google.colab import drive \n",
        "drive.mount('/content/gdrive')\n",
        "import pandas as pd \n",
        "df=pd.read_csv('gdrive/My Drive/Shopify/2019 Winter Data Science Intern Challenge Data Set.csv')\n",
        "df.head()"
      ],
      "execution_count": 136,
      "outputs": [
        {
          "output_type": "stream",
          "name": "stdout",
          "text": [
            "Drive already mounted at /content/gdrive; to attempt to forcibly remount, call drive.mount(\"/content/gdrive\", force_remount=True).\n"
          ]
        },
        {
          "output_type": "execute_result",
          "data": {
            "text/html": [
              "<div>\n",
              "<style scoped>\n",
              "    .dataframe tbody tr th:only-of-type {\n",
              "        vertical-align: middle;\n",
              "    }\n",
              "\n",
              "    .dataframe tbody tr th {\n",
              "        vertical-align: top;\n",
              "    }\n",
              "\n",
              "    .dataframe thead th {\n",
              "        text-align: right;\n",
              "    }\n",
              "</style>\n",
              "<table border=\"1\" class=\"dataframe\">\n",
              "  <thead>\n",
              "    <tr style=\"text-align: right;\">\n",
              "      <th></th>\n",
              "      <th>order_id</th>\n",
              "      <th>shop_id</th>\n",
              "      <th>user_id</th>\n",
              "      <th>order_amount</th>\n",
              "      <th>total_items</th>\n",
              "      <th>payment_method</th>\n",
              "      <th>created_at</th>\n",
              "    </tr>\n",
              "  </thead>\n",
              "  <tbody>\n",
              "    <tr>\n",
              "      <th>0</th>\n",
              "      <td>1</td>\n",
              "      <td>53</td>\n",
              "      <td>746</td>\n",
              "      <td>224</td>\n",
              "      <td>2</td>\n",
              "      <td>cash</td>\n",
              "      <td>2017-03-13 12:36:56</td>\n",
              "    </tr>\n",
              "    <tr>\n",
              "      <th>1</th>\n",
              "      <td>2</td>\n",
              "      <td>92</td>\n",
              "      <td>925</td>\n",
              "      <td>90</td>\n",
              "      <td>1</td>\n",
              "      <td>cash</td>\n",
              "      <td>2017-03-03 17:38:52</td>\n",
              "    </tr>\n",
              "    <tr>\n",
              "      <th>2</th>\n",
              "      <td>3</td>\n",
              "      <td>44</td>\n",
              "      <td>861</td>\n",
              "      <td>144</td>\n",
              "      <td>1</td>\n",
              "      <td>cash</td>\n",
              "      <td>2017-03-14 4:23:56</td>\n",
              "    </tr>\n",
              "    <tr>\n",
              "      <th>3</th>\n",
              "      <td>4</td>\n",
              "      <td>18</td>\n",
              "      <td>935</td>\n",
              "      <td>156</td>\n",
              "      <td>1</td>\n",
              "      <td>credit_card</td>\n",
              "      <td>2017-03-26 12:43:37</td>\n",
              "    </tr>\n",
              "    <tr>\n",
              "      <th>4</th>\n",
              "      <td>5</td>\n",
              "      <td>18</td>\n",
              "      <td>883</td>\n",
              "      <td>156</td>\n",
              "      <td>1</td>\n",
              "      <td>credit_card</td>\n",
              "      <td>2017-03-01 4:35:11</td>\n",
              "    </tr>\n",
              "  </tbody>\n",
              "</table>\n",
              "</div>"
            ],
            "text/plain": [
              "   order_id  shop_id  user_id  ...  total_items  payment_method           created_at\n",
              "0         1       53      746  ...            2            cash  2017-03-13 12:36:56\n",
              "1         2       92      925  ...            1            cash  2017-03-03 17:38:52\n",
              "2         3       44      861  ...            1            cash   2017-03-14 4:23:56\n",
              "3         4       18      935  ...            1     credit_card  2017-03-26 12:43:37\n",
              "4         5       18      883  ...            1     credit_card   2017-03-01 4:35:11\n",
              "\n",
              "[5 rows x 7 columns]"
            ]
          },
          "metadata": {},
          "execution_count": 136
        }
      ]
    },
    {
      "cell_type": "code",
      "metadata": {
        "colab": {
          "base_uri": "https://localhost:8080/"
        },
        "id": "tiq0VsDyEnnA",
        "outputId": "cc0269ce-c8ed-4812-9dbb-35778dddfd15"
      },
      "source": [
        "import pandas as pd\n",
        "import seaborn as sns\n",
        "import matplotlib.pyplot as plt\n",
        "print(\"Firstly validate the 30-day window, from earliest:\", min(df['created_at'])[:10] + ' to latest: ' + max(df['created_at'])[:10] + '.\\n')\n",
        "inaccurate_AOV=df['order_amount'].sum()/len(df['order_id'])\n",
        "print(\"The inaccurate AOV is simply calculated as dividing the sum of order_amount by the number of orders.\\n\\nThe result is therefore ${0:.2f}.\".format(inaccurate_AOV))"
      ],
      "execution_count": 137,
      "outputs": [
        {
          "output_type": "stream",
          "name": "stdout",
          "text": [
            "Firstly validate the 30-day window, from earliest: 2017-03-01 to latest: 2017-03-30.\n",
            "\n",
            "The inaccurate AOV is simply calculated as dividing the sum of order_amount by the number of orders.\n",
            "\n",
            "The result is therefore $3145.13.\n"
          ]
        }
      ]
    },
    {
      "cell_type": "code",
      "metadata": {
        "colab": {
          "base_uri": "https://localhost:8080/",
          "height": 320
        },
        "id": "W8QOEsWTRL72",
        "outputId": "2f54590c-cddb-4c72-dcf0-84a90aca5c7e"
      },
      "source": [
        "print(\"Secondly, inspect the distributions of order_amount by each type of payment_method.\\n\")\n",
        "sns.set(style=\"darkgrid\")\n",
        "ax = sns.boxplot(x=df[\"payment_method\"], y=df[\"order_amount\"])"
      ],
      "execution_count": 138,
      "outputs": [
        {
          "output_type": "stream",
          "name": "stdout",
          "text": [
            "Secondly, inspect the distributions of order_amount by each type of payment_method.\n",
            "\n"
          ]
        },
        {
          "output_type": "display_data",
          "data": {
            "image/png": "[encoded data removed]",
            "text/plain": [
              "<Figure size 432x288 with 1 Axes>"
            ]
          },
          "metadata": {}
        }
      ]
    },
    {
      "cell_type": "markdown",
      "metadata": {
        "id": "Lejx4GCBxDNR"
      },
      "source": [
        "This problem was caused due to not removing outliers in the dataset. Next, I will use the IQR method in Statistics to find outliers in each payment category."
      ]
    },
    {
      "cell_type": "code",
      "metadata": {
        "colab": {
          "base_uri": "https://localhost:8080/",
          "height": 354
        },
        "id": "ZUIKowiBx324",
        "outputId": "b2a8505d-df7d-45d4-e916-9e19f874a62a"
      },
      "source": [
        "IQR = df['order_amount'].quantile(.75) - df['order_amount'].quantile(.25)\n",
        "filtered_df = df[(df['order_amount'] < df['order_amount'].quantile(.5) + IQR*1.75) & (df['order_amount'] > df['order_amount'].quantile(.5) - IQR*1.75)]\n",
        "filtered_df.boxplot(column='order_amount', by='payment_method')\n",
        "plt.suptitle('') \n",
        "plt.show()"
      ],
      "execution_count": 139,
      "outputs": [
        {
          "output_type": "stream",
          "name": "stderr",
          "text": [
            "/usr/local/lib/python3.7/dist-packages/numpy/core/_asarray.py:83: VisibleDeprecationWarning: Creating an ndarray from ragged nested sequences (which is a list-or-tuple of lists-or-tuples-or ndarrays with different lengths or shapes) is deprecated. If you meant to do this, you must specify 'dtype=object' when creating the ndarray\n",
            "  return array(a, dtype, copy=False, order=order)\n"
          ]
        },
        {
          "output_type": "display_data",
          "data": {
            "image/png": "[encoded data removed]",
            "text/plain": [
              "<Figure size 432x288 with 1 Axes>"
            ]
          },
          "metadata": {}
        }
      ]
    },
    {
      "cell_type": "markdown",
      "metadata": {
        "id": "lFuRDb2B3I8X"
      },
      "source": [
        "Now I want to know the min and max order_amount for each type of payment method after removing outliers."
      ]
    },
    {
      "cell_type": "code",
      "metadata": {
        "colab": {
          "base_uri": "https://localhost:8080/",
          "height": 173
        },
        "id": "HxukmaS5wg5i",
        "outputId": "62b262f9-0e4e-4b49-84e0-2cbeed5e74e6"
      },
      "source": [
        "filtered_df.groupby('payment_method').describe()['order_amount']"
      ],
      "execution_count": 140,
      "outputs": [
        {
          "output_type": "execute_result",
          "data": {
            "text/html": [
              "<div>\n",
              "<style scoped>\n",
              "    .dataframe tbody tr th:only-of-type {\n",
              "        vertical-align: middle;\n",
              "    }\n",
              "\n",
              "    .dataframe tbody tr th {\n",
              "        vertical-align: top;\n",
              "    }\n",
              "\n",
              "    .dataframe thead th {\n",
              "        text-align: right;\n",
              "    }\n",
              "</style>\n",
              "<table border=\"1\" class=\"dataframe\">\n",
              "  <thead>\n",
              "    <tr style=\"text-align: right;\">\n",
              "      <th></th>\n",
              "      <th>count</th>\n",
              "      <th>mean</th>\n",
              "      <th>std</th>\n",
              "      <th>min</th>\n",
              "      <th>25%</th>\n",
              "      <th>50%</th>\n",
              "      <th>75%</th>\n",
              "      <th>max</th>\n",
              "    </tr>\n",
              "    <tr>\n",
              "      <th>payment_method</th>\n",
              "      <th></th>\n",
              "      <th></th>\n",
              "      <th></th>\n",
              "      <th></th>\n",
              "      <th></th>\n",
              "      <th></th>\n",
              "      <th></th>\n",
              "      <th></th>\n",
              "    </tr>\n",
              "  </thead>\n",
              "  <tbody>\n",
              "    <tr>\n",
              "      <th>cash</th>\n",
              "      <td>1541.0</td>\n",
              "      <td>286.104478</td>\n",
              "      <td>137.571738</td>\n",
              "      <td>90.0</td>\n",
              "      <td>160.0</td>\n",
              "      <td>272.0</td>\n",
              "      <td>368.0</td>\n",
              "      <td>670.0</td>\n",
              "    </tr>\n",
              "    <tr>\n",
              "      <th>credit_card</th>\n",
              "      <td>1655.0</td>\n",
              "      <td>286.523263</td>\n",
              "      <td>137.065124</td>\n",
              "      <td>90.0</td>\n",
              "      <td>161.0</td>\n",
              "      <td>272.0</td>\n",
              "      <td>368.0</td>\n",
              "      <td>676.0</td>\n",
              "    </tr>\n",
              "    <tr>\n",
              "      <th>debit</th>\n",
              "      <td>1597.0</td>\n",
              "      <td>291.459612</td>\n",
              "      <td>136.473828</td>\n",
              "      <td>90.0</td>\n",
              "      <td>164.0</td>\n",
              "      <td>282.0</td>\n",
              "      <td>374.0</td>\n",
              "      <td>676.0</td>\n",
              "    </tr>\n",
              "  </tbody>\n",
              "</table>\n",
              "</div>"
            ],
            "text/plain": [
              "                 count        mean         std  ...    50%    75%    max\n",
              "payment_method                                  ...                     \n",
              "cash            1541.0  286.104478  137.571738  ...  272.0  368.0  670.0\n",
              "credit_card     1655.0  286.523263  137.065124  ...  272.0  368.0  676.0\n",
              "debit           1597.0  291.459612  136.473828  ...  282.0  374.0  676.0\n",
              "\n",
              "[3 rows x 8 columns]"
            ]
          },
          "metadata": {},
          "execution_count": 140
        }
      ]
    },
    {
      "cell_type": "markdown",
      "metadata": {
        "id": "wcEq47o44r-I"
      },
      "source": [
        "Since the ranges for each type of payment methods are close, I will keep all orders with order_amount between 90 and 676."
      ]
    },
    {
      "cell_type": "code",
      "metadata": {
        "id": "9KbMXjZ45D20"
      },
      "source": [
        "filtered_df = filtered_df[filtered_df['order_amount'] >= 90]\n",
        "filtered_df = filtered_df[filtered_df['order_amount'] <= 676]"
      ],
      "execution_count": 141,
      "outputs": []
    },
    {
      "cell_type": "markdown",
      "metadata": {
        "id": "2Nnp3bjyDEec"
      },
      "source": [
        "To better evaluate AOV, I will use the filtered data in part b) and c)."
      ]
    },
    {
      "cell_type": "markdown",
      "metadata": {
        "id": "HPBYSSfuZuWX"
      },
      "source": [
        "####b) What metric would you report for this dataset? c) What is its value?"
      ]
    },
    {
      "cell_type": "markdown",
      "metadata": {
        "id": "f9Fa0AUlUGYe"
      },
      "source": [
        "**Alternative metric 1**: Remove the outliers we found in part a) and perform the same calculation.\n",
        "\n",
        "This is the **mean revenue per order.**"
      ]
    },
    {
      "cell_type": "code",
      "metadata": {
        "colab": {
          "base_uri": "https://localhost:8080/"
        },
        "id": "DUiReGpBUHy4",
        "outputId": "7086d751-e256-45fc-d414-5d6c3ec4144f"
      },
      "source": [
        "df_1 = filtered_df.copy()\n",
        "AOV_1=df_1['order_amount'].sum()/len(df_1['order_id'])\n",
        "print('alternaive AOV1: ${0:.2f}'.format(AOV_1))"
      ],
      "execution_count": 142,
      "outputs": [
        {
          "output_type": "stream",
          "name": "stdout",
          "text": [
            "alternaive AOV1: $288.03\n"
          ]
        }
      ]
    },
    {
      "cell_type": "markdown",
      "metadata": {
        "id": "A17pGKL3bGe-"
      },
      "source": [
        "**Alternative metric 2**: Suppose I want to find the **average unit price** for sneakers."
      ]
    },
    {
      "cell_type": "code",
      "metadata": {
        "colab": {
          "base_uri": "https://localhost:8080/"
        },
        "id": "zFdLNHGieiT8",
        "outputId": "f6aeafd1-b2ab-4bef-c362-2ed491728574"
      },
      "source": [
        "AOV_2=df_1['order_amount'].sum()/df_1['total_items'].sum()\n",
        "print('alternaive AOV2: ${0:.2f}'.format(AOV_2))"
      ],
      "execution_count": 143,
      "outputs": [
        {
          "output_type": "stream",
          "name": "stdout",
          "text": [
            "alternaive AOV2: $149.64\n"
          ]
        }
      ]
    },
    {
      "cell_type": "markdown",
      "metadata": {
        "id": "k8hADrxD7qvK"
      },
      "source": [
        "**Alternative 3**: Use median instead of mean, because the variance in order_amount is high. This is the **median revenue per order.**"
      ]
    },
    {
      "cell_type": "code",
      "metadata": {
        "colab": {
          "base_uri": "https://localhost:8080/",
          "height": 297
        },
        "id": "hoiX8q3A8XuO",
        "outputId": "9924bf49-f81f-4cc5-970f-373387c09e3a"
      },
      "source": [
        "df_1.describe()"
      ],
      "execution_count": 144,
      "outputs": [
        {
          "output_type": "execute_result",
          "data": {
            "text/html": [
              "<div>\n",
              "<style scoped>\n",
              "    .dataframe tbody tr th:only-of-type {\n",
              "        vertical-align: middle;\n",
              "    }\n",
              "\n",
              "    .dataframe tbody tr th {\n",
              "        vertical-align: top;\n",
              "    }\n",
              "\n",
              "    .dataframe thead th {\n",
              "        text-align: right;\n",
              "    }\n",
              "</style>\n",
              "<table border=\"1\" class=\"dataframe\">\n",
              "  <thead>\n",
              "    <tr style=\"text-align: right;\">\n",
              "      <th></th>\n",
              "      <th>order_id</th>\n",
              "      <th>shop_id</th>\n",
              "      <th>user_id</th>\n",
              "      <th>order_amount</th>\n",
              "      <th>total_items</th>\n",
              "    </tr>\n",
              "  </thead>\n",
              "  <tbody>\n",
              "    <tr>\n",
              "      <th>count</th>\n",
              "      <td>4793.000000</td>\n",
              "      <td>4793.000000</td>\n",
              "      <td>4793.000000</td>\n",
              "      <td>4793.000000</td>\n",
              "      <td>4793.000000</td>\n",
              "    </tr>\n",
              "    <tr>\n",
              "      <th>mean</th>\n",
              "      <td>2496.841435</td>\n",
              "      <td>49.799082</td>\n",
              "      <td>850.261840</td>\n",
              "      <td>288.033382</td>\n",
              "      <td>1.924890</td>\n",
              "    </tr>\n",
              "    <tr>\n",
              "      <th>std</th>\n",
              "      <td>1443.869341</td>\n",
              "      <td>29.119506</td>\n",
              "      <td>86.878953</td>\n",
              "      <td>137.024626</td>\n",
              "      <td>0.893185</td>\n",
              "    </tr>\n",
              "    <tr>\n",
              "      <th>min</th>\n",
              "      <td>1.000000</td>\n",
              "      <td>1.000000</td>\n",
              "      <td>700.000000</td>\n",
              "      <td>90.000000</td>\n",
              "      <td>1.000000</td>\n",
              "    </tr>\n",
              "    <tr>\n",
              "      <th>25%</th>\n",
              "      <td>1243.000000</td>\n",
              "      <td>24.000000</td>\n",
              "      <td>776.000000</td>\n",
              "      <td>162.000000</td>\n",
              "      <td>1.000000</td>\n",
              "    </tr>\n",
              "    <tr>\n",
              "      <th>50%</th>\n",
              "      <td>2497.000000</td>\n",
              "      <td>50.000000</td>\n",
              "      <td>851.000000</td>\n",
              "      <td>276.000000</td>\n",
              "      <td>2.000000</td>\n",
              "    </tr>\n",
              "    <tr>\n",
              "      <th>75%</th>\n",
              "      <td>3748.000000</td>\n",
              "      <td>74.000000</td>\n",
              "      <td>926.000000</td>\n",
              "      <td>374.000000</td>\n",
              "      <td>2.000000</td>\n",
              "    </tr>\n",
              "    <tr>\n",
              "      <th>max</th>\n",
              "      <td>5000.000000</td>\n",
              "      <td>100.000000</td>\n",
              "      <td>999.000000</td>\n",
              "      <td>676.000000</td>\n",
              "      <td>5.000000</td>\n",
              "    </tr>\n",
              "  </tbody>\n",
              "</table>\n",
              "</div>"
            ],
            "text/plain": [
              "          order_id      shop_id      user_id  order_amount  total_items\n",
              "count  4793.000000  4793.000000  4793.000000   4793.000000  4793.000000\n",
              "mean   2496.841435    49.799082   850.261840    288.033382     1.924890\n",
              "std    1443.869341    29.119506    86.878953    137.024626     0.893185\n",
              "min       1.000000     1.000000   700.000000     90.000000     1.000000\n",
              "25%    1243.000000    24.000000   776.000000    162.000000     1.000000\n",
              "50%    2497.000000    50.000000   851.000000    276.000000     2.000000\n",
              "75%    3748.000000    74.000000   926.000000    374.000000     2.000000\n",
              "max    5000.000000   100.000000   999.000000    676.000000     5.000000"
            ]
          },
          "metadata": {},
          "execution_count": 144
        }
      ]
    },
    {
      "cell_type": "markdown",
      "metadata": {
        "id": "_DSw_Rxx8zHQ"
      },
      "source": [
        "alternative AOV3: $276.00"
      ]
    }
  ]
}